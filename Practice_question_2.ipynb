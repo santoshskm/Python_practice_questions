{
 "cells": [
  {
   "cell_type": "markdown",
   "metadata": {},
   "source": [
    "#### 1. Write a program takes two values from the user and swaps them\n",
    "##### a. using temporary variable\n",
    "##### b. without using temporary variable"
   ]
  },
  {
   "cell_type": "code",
   "execution_count": 1,
   "metadata": {},
   "outputs": [
    {
     "data": {
      "text/plain": [
       "(2, 1)"
      ]
     },
     "execution_count": 1,
     "metadata": {},
     "output_type": "execute_result"
    }
   ],
   "source": [
    "#with temp variable\n",
    "a,b= 1,2\n",
    "c=a\n",
    "a=b\n",
    "b=c\n",
    "a,b\n"
   ]
  },
  {
   "cell_type": "code",
   "execution_count": 2,
   "metadata": {},
   "outputs": [
    {
     "data": {
      "text/plain": [
       "(1, 2)"
      ]
     },
     "execution_count": 2,
     "metadata": {},
     "output_type": "execute_result"
    }
   ],
   "source": [
    "#without temp variable\n",
    "a,b= b,a\n",
    "a,b"
   ]
  },
  {
   "cell_type": "markdown",
   "metadata": {},
   "source": [
    "##### 2. Write a program that takes in two numbers and prints the quotient and remainder when one divides the other"
   ]
  },
  {
   "cell_type": "code",
   "execution_count": 8,
   "metadata": {},
   "outputs": [
    {
     "data": {
      "text/plain": [
       "(1, 3)"
      ]
     },
     "execution_count": 8,
     "metadata": {},
     "output_type": "execute_result"
    }
   ],
   "source": [
    "def divide_nums(a1,a2):\n",
    "    rem = a2%a1\n",
    "    quotient = (a2-rem)//a1\n",
    "    \n",
    "    return rem, quotient\n",
    "divide_nums(2,7)\n"
   ]
  },
  {
   "cell_type": "markdown",
   "metadata": {},
   "source": [
    "#### 3. Write a program to read a number n and calculate the sum of the series 1+2+…..+n"
   ]
  },
  {
   "cell_type": "code",
   "execution_count": 11,
   "metadata": {},
   "outputs": [
    {
     "data": {
      "text/plain": [
       "6"
      ]
     },
     "execution_count": 11,
     "metadata": {},
     "output_type": "execute_result"
    }
   ],
   "source": [
    "def sum_of_natural_num(n):\n",
    "    sum = (n*(n+1))//2\n",
    "    return sum\n",
    "sum_of_natural_num(3)"
   ]
  },
  {
   "cell_type": "markdown",
   "metadata": {},
   "source": [
    "#### 4. Write a program that takes in a number and prints if it is positive , negative or zero"
   ]
  },
  {
   "cell_type": "code",
   "execution_count": 18,
   "metadata": {},
   "outputs": [
    {
     "name": "stdout",
     "output_type": "stream",
     "text": [
      "Enter an integer\n"
     ]
    }
   ],
   "source": [
    "def identify_num(n):\n",
    "    if type(n)== int:\n",
    "        if n <= -1:\n",
    "            print(\"Negative\")\n",
    "        elif n ==0:\n",
    "            print(\"Zero\")\n",
    "        elif n>=1:\n",
    "            print(\"Positive\")\n",
    "    else:\n",
    "        print(\"Enter an integer\")\n",
    "identify_num(1.5)"
   ]
  },
  {
   "cell_type": "markdown",
   "metadata": {},
   "source": [
    "#### 5. Write a program that takes in marks of 5 subjects and prints the grade obtained for the student. (>85% ->A; 70% - 85% ->B;  55% -70% ->C; 40% - 55% ->D; <40% ->F)"
   ]
  },
  {
   "cell_type": "code",
   "execution_count": 21,
   "metadata": {},
   "outputs": [
    {
     "name": "stdout",
     "output_type": "stream",
     "text": [
      "Enter marks: 99\n",
      "Enter marks: 99\n",
      "Enter marks: 99\n",
      "Enter marks: 99\n",
      "Enter marks: 99\n",
      "A\n"
     ]
    }
   ],
   "source": [
    "def find_grade(n):\n",
    "    grd = n/500\n",
    "    percentage = grd*100\n",
    "    if percentage > 85:\n",
    "        print(\"A\")\n",
    "    elif 70 < percentage < 85:\n",
    "        print(\"B\")\n",
    "    elif 55 < percentage < 70:\n",
    "        print(\"C\")\n",
    "    elif 40 < percentage < 55:\n",
    "        print(\"D\")\n",
    "    elif percentage < 40:\n",
    "        print(\"Failed\")\n",
    "\n",
    "        \n",
    "sub_no = 0\n",
    "total = 0\n",
    "while sub_no < 5:\n",
    "    sub_no = sub_no + 1\n",
    "    n = int(input(\"Enter marks: \"))\n",
    "    total = total + n\n",
    "    \n",
    "    \n",
    "find_grade(total)"
   ]
  },
  {
   "cell_type": "code",
   "execution_count": null,
   "metadata": {},
   "outputs": [],
   "source": []
  },
  {
   "cell_type": "markdown",
   "metadata": {},
   "source": [
    "##### 7. Print the following numbers between 1 and 100\n",
    "######            a. Multiples of 7\n",
    "######            b. Multiples of 3 and 5\n",
    "######            c. Multiples of 3, 5 and 7\n",
    "######            d. Multiples of 3,5 and 7 but not divisible by 2"
   ]
  },
  {
   "cell_type": "code",
   "execution_count": 23,
   "metadata": {},
   "outputs": [
    {
     "data": {
      "text/plain": [
       "([7, 14, 21, 28, 35, 42, 49, 56, 63, 70, 77, 84, 91, 98],\n",
       " [15, 30, 45, 60, 75, 90],\n",
       " [],\n",
       " [])"
      ]
     },
     "execution_count": 23,
     "metadata": {},
     "output_type": "execute_result"
    }
   ],
   "source": [
    "l7 = []\n",
    "l15 = []\n",
    "l105 = []\n",
    "l0105 = []\n",
    "def multiple_of_7(n1,n2):\n",
    "    for i in range(n1,n2):\n",
    "        if i%7 ==0:\n",
    "            l7.append(i)\n",
    "        elif i % 15 ==0:\n",
    "            l15.append(i)\n",
    "        elif i% 105 ==0:\n",
    "            l105.append(i)\n",
    "        elif i % 105 ==0 and not i % 2 ==0:\n",
    "            l0105.append(i)\n",
    "    return l7, l15, l105, l0105\n",
    "\n",
    "multiple_of_7(1, 100)\n",
    "            \n",
    "            "
   ]
  },
  {
   "cell_type": "markdown",
   "metadata": {},
   "source": [
    "#### 8. Take an input of a number from the user and print the sum of its digits"
   ]
  },
  {
   "cell_type": "code",
   "execution_count": 26,
   "metadata": {},
   "outputs": [
    {
     "name": "stdout",
     "output_type": "stream",
     "text": [
      "Enter the numbers: 5\n"
     ]
    },
    {
     "data": {
      "text/plain": [
       "5"
      ]
     },
     "execution_count": 26,
     "metadata": {},
     "output_type": "execute_result"
    }
   ],
   "source": [
    "def sum_of_digits(n):\n",
    "    s = [ int(i) for i in n]\n",
    "    total_sum = sum(s)\n",
    "    return total_sum\n",
    "sum_of_digits(input(\"Enter the numbers: \"))"
   ]
  },
  {
   "cell_type": "markdown",
   "metadata": {},
   "source": [
    "#### 9. Given a number, find the number of digits in it"
   ]
  },
  {
   "cell_type": "code",
   "execution_count": 27,
   "metadata": {},
   "outputs": [
    {
     "name": "stdout",
     "output_type": "stream",
     "text": [
      "Enter a number: 222\n"
     ]
    },
    {
     "data": {
      "text/plain": [
       "3"
      ]
     },
     "execution_count": 27,
     "metadata": {},
     "output_type": "execute_result"
    }
   ],
   "source": [
    "n = int(input(\"Enter a number: \"))\n",
    "len(str(n))"
   ]
  },
  {
   "cell_type": "markdown",
   "metadata": {},
   "source": [
    "#### 10. Take an input of a 3 digit number and print the largest number possible using the 3 digit"
   ]
  },
  {
   "cell_type": "code",
   "execution_count": 38,
   "metadata": {},
   "outputs": [
    {
     "data": {
      "text/plain": [
       "765"
      ]
     },
     "execution_count": 38,
     "metadata": {},
     "output_type": "execute_result"
    }
   ],
   "source": [
    "def largest_number(n):\n",
    "    s_n = str(n)\n",
    "    small_num = [i for i in s_n]\n",
    "    small_num.sort()\n",
    "    small_num.reverse()\n",
    "    large_num = ''.join(small_num)\n",
    "    return int(large_num)\n",
    "\n",
    "\n",
    "largest_number(567)"
   ]
  },
  {
   "cell_type": "markdown",
   "metadata": {},
   "source": [
    "#### 11. Write a program that takes in a number and reverses it"
   ]
  },
  {
   "cell_type": "code",
   "execution_count": null,
   "metadata": {},
   "outputs": [],
   "source": []
  }
 ],
 "metadata": {
  "kernelspec": {
   "display_name": "Python 3",
   "language": "python",
   "name": "python3"
  },
  "language_info": {
   "codemirror_mode": {
    "name": "ipython",
    "version": 3
   },
   "file_extension": ".py",
   "mimetype": "text/x-python",
   "name": "python",
   "nbconvert_exporter": "python",
   "pygments_lexer": "ipython3",
   "version": "3.7.3"
  }
 },
 "nbformat": 4,
 "nbformat_minor": 2
}
